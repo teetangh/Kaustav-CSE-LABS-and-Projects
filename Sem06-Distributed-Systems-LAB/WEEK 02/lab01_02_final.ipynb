{
 "cells": [
  {
   "cell_type": "markdown",
   "metadata": {},
   "source": [
    "# Kaustav Ghosh \n",
    "## Reg 180905188\n",
    "### Roll No 29 C"
   ]
  },
  {
   "cell_type": "markdown",
   "metadata": {},
   "source": [
    "\n",
    "## 1. Write a program to find the area of rectangle. Take input from user.\n",
    "## Eg.  x= int(input(‘Enter number:’))"
   ]
  },
  {
   "cell_type": "code",
   "execution_count": 1,
   "metadata": {},
   "outputs": [
    {
     "name": "stdout",
     "output_type": "stream",
     "text": [
      "length is : 5\n",
      "breadth  is : 7\n",
      "Area of rectangle is : 35\n"
     ]
    }
   ],
   "source": [
    "length = int(input(\"Enter number:\"))\n",
    "breadth = int(input(\"Enter number:\"))\n",
    "\n",
    "\n",
    "print(\"length is :\" , length )\n",
    "print(\"breadth  is :\" ,  breadth)\n",
    "print(\"Area of rectangle is :\" , length * breadth)"
   ]
  },
  {
   "cell_type": "markdown",
   "metadata": {},
   "source": [
    "## 2. Write a program to swap the values of two variables."
   ]
  },
  {
   "cell_type": "code",
   "execution_count": 2,
   "metadata": {},
   "outputs": [
    {
     "name": "stdout",
     "output_type": "stream",
     "text": [
      "a =  5 b=  7\n",
      "a =  7 b=  5\n"
     ]
    }
   ],
   "source": [
    "def swap():\n",
    "    a = 5\n",
    "    b = 7 \n",
    "    print(\"a = \" , a ,  \"b= \" , b)\n",
    "\n",
    "    temp = a\n",
    "    a = b \n",
    "    b = temp\n",
    "\n",
    "    print(\"a = \" , a ,  \"b= \" , b)\n",
    "\n",
    "swap()\n"
   ]
  },
  {
   "cell_type": "markdown",
   "metadata": {},
   "source": [
    "## 3. Write a program to find whether a number is even or odd."
   ]
  },
  {
   "cell_type": "code",
   "execution_count": 3,
   "metadata": {},
   "outputs": [
    {
     "name": "stdout",
     "output_type": "stream",
     "text": [
      "False\n"
     ]
    }
   ],
   "source": [
    "def odd_or_even(num):\n",
    "    return (num % 2) == 0\n",
    "\n",
    "print(odd_or_even(7))"
   ]
  },
  {
   "cell_type": "markdown",
   "metadata": {},
   "source": [
    "## 4. Write a program to check the largest among the given three numbers."
   ]
  },
  {
   "cell_type": "code",
   "execution_count": 4,
   "metadata": {},
   "outputs": [
    {
     "name": "stdout",
     "output_type": "stream",
     "text": [
      "7\n"
     ]
    }
   ],
   "source": [
    "def largest_among_three(a,b,c):\n",
    "\n",
    "    if a > b and a > c:\n",
    "        return a\n",
    "    elif b > a and b > c:\n",
    "        return b\n",
    "    else:\n",
    "        return c\n",
    "\n",
    "\n",
    "a = 5\n",
    "b = 6\n",
    "c = 7\n",
    "print(largest_among_three(a,b,c)) \n"
   ]
  },
  {
   "cell_type": "markdown",
   "metadata": {},
   "source": [
    "## 5. Write a program to demonstrate while loop with else."
   ]
  },
  {
   "cell_type": "code",
   "execution_count": 5,
   "metadata": {},
   "outputs": [
    {
     "name": "stdout",
     "output_type": "stream",
     "text": [
      "Loop iteration :  1\n",
      "Loop iteration :  2\n",
      "Loop iteration :  3\n",
      "Loop iteration :  4\n",
      "inside else\n"
     ]
    }
   ],
   "source": [
    "for i in range(1,5):\n",
    "    print(\"Loop iteration : \" , i)\n",
    "else:\n",
    "    print(\"inside else\")"
   ]
  },
  {
   "cell_type": "markdown",
   "metadata": {},
   "source": [
    "## 6. Write a program to print the prime numbers for a user provided range."
   ]
  },
  {
   "cell_type": "code",
   "execution_count": 1,
   "metadata": {},
   "outputs": [
    {
     "name": "stdout",
     "output_type": "stream",
     "text": [
      "10\n",
      "100\n",
      "Prime numbers between 10 and 100 are:\n",
      "11\n",
      "13\n",
      "17\n",
      "19\n",
      "23\n",
      "29\n",
      "31\n",
      "37\n",
      "41\n",
      "43\n",
      "47\n",
      "53\n",
      "59\n",
      "61\n",
      "67\n",
      "71\n",
      "73\n",
      "79\n",
      "83\n",
      "89\n",
      "97\n"
     ]
    }
   ],
   "source": [
    "\n",
    "lower = int(input())\n",
    "upper = int(input())\n",
    "\n",
    "print(\"Prime numbers between\", lower, \"and\", upper, \"are:\")\n",
    "\n",
    "for num in range(lower, upper + 1):\n",
    "   # all prime numbers are greater than 1\n",
    "   if num > 1:\n",
    "       for i in range(2, num):\n",
    "           if (num % i) == 0:\n",
    "               break\n",
    "       else:\n",
    "           print(num)"
   ]
  },
  {
   "cell_type": "markdown",
   "metadata": {},
   "source": [
    "## 7. Write a program to demonstrate List functions and operations."
   ]
  },
  {
   "cell_type": "code",
   "execution_count": 7,
   "metadata": {},
   "outputs": [
    {
     "name": "stdout",
     "output_type": "stream",
     "text": [
      "[1, 2, 3, 4]\n",
      "[1, 2, 3, 4, 5]\n",
      "[1, 2, 3, 4]\n",
      "[1, 2, 100, 3, 4]\n",
      "[1, 2, 100, 3, 4]\n",
      "[4, 3, 100, 2, 1]\n",
      "[1, 2, 3, 4, 100]\n",
      "[1, 2, 3, 4, 100]\n",
      "index of 2 in the list is : 1\n",
      "[]\n"
     ]
    }
   ],
   "source": [
    "my_list = [1,2,3,4]\n",
    "print(my_list)\n",
    "\n",
    "my_list.append(5)\n",
    "print(my_list)\n",
    "\n",
    "my_list.pop()\n",
    "print(my_list)\n",
    "\n",
    "my_list.insert(2,100)\n",
    "print(my_list)\n",
    "\n",
    "my_list2 = my_list.copy()\n",
    "print(my_list2)\n",
    "\n",
    "\n",
    "my_list.reverse()\n",
    "print(my_list)\n",
    "\n",
    "my_list.sort()\n",
    "print(my_list)\n",
    "\n",
    "my_list.count(2)\n",
    "print(my_list)\n",
    "\n",
    "print(\"index of 2 in the list is :\", my_list.index(2))\n",
    "\n",
    "my_list.clear()\n",
    "print(my_list)\n",
    "\n"
   ]
  },
  {
   "cell_type": "markdown",
   "metadata": {},
   "source": [
    "## 8. Consider the tuple(1,3,5,7,9,2,4,6,8,10). Write a program to print half its values in one line and the other half in the next line."
   ]
  },
  {
   "cell_type": "code",
   "execution_count": 8,
   "metadata": {},
   "outputs": [
    {
     "name": "stdout",
     "output_type": "stream",
     "text": [
      "[2, 4, 6, 8, 10]\n",
      "[1, 3, 5, 7, 9]\n"
     ]
    }
   ],
   "source": [
    "my_tuple = (1,3,5,7,9,2,4,6,8,10)\n",
    "list1 = []\n",
    "list2 = []\n",
    "\n",
    "for i in my_tuple:\n",
    "    if i % 2 == 0:\n",
    "        list1.append(i)\n",
    "    else:\n",
    "        list2.append(i)\n",
    "        \n",
    "\n",
    "print(list1)\n",
    "print(list2)"
   ]
  },
  {
   "cell_type": "markdown",
   "metadata": {},
   "source": [
    "## 9. Consider the tuple (12, 7, 38, 56, 78 ). Write a program to print another tuple whose values are even number in the given tuple."
   ]
  },
  {
   "cell_type": "code",
   "execution_count": 3,
   "metadata": {},
   "outputs": [
    {
     "name": "stdout",
     "output_type": "stream",
     "text": [
      "(12, 38, 56, 78)\n"
     ]
    }
   ],
   "source": [
    "input = (12, 7, 38, 56, 78 )\n",
    "\n",
    "even_list = []\n",
    "\n",
    "for i in input:\n",
    "    if i % 2 == 0:\n",
    "        even_list.append(i)\n",
    "        \n",
    "even_tuple = tuple(even_list)\n",
    "print(even_tuple)"
   ]
  },
  {
   "cell_type": "markdown",
   "metadata": {},
   "source": [
    "## 10. Write a Python program to print negative Numbers in a List  using for loop. Eg. [11, -21, 0, 45, 66, -93]. "
   ]
  },
  {
   "cell_type": "code",
   "execution_count": 5,
   "metadata": {},
   "outputs": [
    {
     "name": "stdout",
     "output_type": "stream",
     "text": [
      "-21\n",
      "-93\n"
     ]
    }
   ],
   "source": [
    "input_list = [11, -21, 0, 45, 66, -93]\n",
    "\n",
    "for i in input_list:\n",
    "    if i < 0:\n",
    "        print(i)"
   ]
  },
  {
   "cell_type": "markdown",
   "metadata": {},
   "source": [
    "## 11. Write a program to print negative Numbers in a List using while loop.  "
   ]
  },
  {
   "cell_type": "code",
   "execution_count": 7,
   "metadata": {},
   "outputs": [
    {
     "name": "stdout",
     "output_type": "stream",
     "text": [
      "-21\n",
      "-93\n"
     ]
    }
   ],
   "source": [
    "input_list = [11, -21, 0, 45, 66, -93]\n",
    "i = 0\n",
    "\n",
    "while i < 6:\n",
    "    if input_list[i] < 0:\n",
    "        print(input_list[i])\n",
    "    i = i + 1"
   ]
  },
  {
   "cell_type": "markdown",
   "metadata": {},
   "source": [
    "## 12. Write a Python program to count positive and negative numbers in a List."
   ]
  },
  {
   "cell_type": "code",
   "execution_count": 13,
   "metadata": {},
   "outputs": [
    {
     "name": "stdout",
     "output_type": "stream",
     "text": [
      "positives:  3\n",
      "negatives:  2\n"
     ]
    }
   ],
   "source": [
    "input_list = [11, -21, 0, 45, 66, -93]\n",
    "\n",
    "positives = 0\n",
    "negatives = 0\n",
    "\n",
    "for i in input_list:\n",
    "    if i < 0:\n",
    "        negatives = negatives + 1\n",
    "    elif i > 0:\n",
    "        positives = positives + 1\n",
    "\n",
    "print(\"positives: \" , positives)\n",
    "print(\"negatives: \" , negatives)"
   ]
  },
  {
   "cell_type": "markdown",
   "metadata": {},
   "source": [
    "## 13. Write a Python program to remove all even elements from a list  ."
   ]
  },
  {
   "cell_type": "code",
   "execution_count": 15,
   "metadata": {},
   "outputs": [
    {
     "name": "stdout",
     "output_type": "stream",
     "text": [
      "[11, 21, 10, 45, 66, 93]\n",
      "[11, 21, 45, 93]\n"
     ]
    }
   ],
   "source": [
    "num_list = [11, 21, 10, 45, 66, 93]\n",
    "\n",
    "print(num_list)\n",
    "\n",
    "for i in num_list:\n",
    "    if i % 2 == 0:\n",
    "        num_list.remove(i)\n",
    "\n",
    "print(num_list)"
   ]
  },
  {
   "cell_type": "markdown",
   "metadata": {},
   "source": [
    "## 14. Define a dictionary containing Students data {Name, Height, Qualification}.\n",
    "    a) Convert the dictionary into DataFrame \n",
    "    b) Declare a list that is to be converted into a new column (Address}\n",
    "    c) Using 'Address' as the column name  and equate it to the list and display the result."
   ]
  },
  {
   "cell_type": "code",
   "execution_count": 29,
   "metadata": {},
   "outputs": [
    {
     "name": "stdout",
     "output_type": "stream",
     "text": [
      "{'Name': ['Kaustav', 'Sahil'], 'Height': ['170 cm', '165 cm'], 'Qualification': ['B. Tech CSE', 'B. Tech CSE']}\n",
      "\n",
      "      Name  Height Qualification\n",
      "0  Kaustav  170 cm   B. Tech CSE\n",
      "1    Sahil  165 cm   B. Tech CSE\n",
      "\n",
      "      Name  Height Qualification  Address\n",
      "0  Kaustav  170 cm   B. Tech CSE  Gurgaon\n",
      "1    Sahil  165 cm   B. Tech CSE    Jammu\n"
     ]
    }
   ],
   "source": [
    "my_dict = { \"Name\" : [ \"Kaustav\" , \"Sahil\" ],\n",
    "\"Height\" :  [ \"170 cm\" , \"165 cm\" ] ,\n",
    "\"Qualification\" : [\"B. Tech CSE\" , \"B. Tech CSE\"] }\n",
    "\n",
    "print(my_dict)\n",
    "print()\n",
    "\n",
    "import pandas as pd\n",
    "\n",
    "df_my_dict = pd.DataFrame.from_dict(my_dict)\n",
    "print(df_my_dict)\n",
    "print()\n",
    "\n",
    "\n",
    "\n",
    "address_list = [\"Gurgaon\" , \"Jammu\"]\n",
    "df_my_dict[\"Address\"] = address_list\n",
    "print(df_my_dict)\n"
   ]
  },
  {
   "cell_type": "markdown",
   "metadata": {},
   "source": [
    "##     15.   Define a dictionary containing Students data {Name, Height, Qualification}.\n",
    "    a) Convert the dictionary into DataFrame \n",
    "    b) Use DataFrame.insert() to add a column and display the result."
   ]
  },
  {
   "cell_type": "code",
   "execution_count": 34,
   "metadata": {},
   "outputs": [
    {
     "name": "stdout",
     "output_type": "stream",
     "text": [
      "{'Name': ['Kaustav', 'Sahil'], 'Height': ['170 cm', '165 cm'], 'Qualification': ['B. Tech CSE', 'B. Tech CSE']}\n",
      "\n",
      "      Name  Height Qualification\n",
      "0  Kaustav  170 cm   B. Tech CSE\n",
      "1    Sahil  165 cm   B. Tech CSE\n",
      "\n",
      "      Name  Height Qualification  Address\n",
      "0  Kaustav  170 cm   B. Tech CSE  Gurgaon\n",
      "1    Sahil  165 cm   B. Tech CSE    Jammu\n"
     ]
    }
   ],
   "source": [
    "my_dict = { \"Name\" : [ \"Kaustav\" , \"Sahil\" ],\n",
    "\"Height\" :  [ \"170 cm\" , \"165 cm\" ] ,\n",
    "\"Qualification\" : [\"B. Tech CSE\" , \"B. Tech CSE\"] }\n",
    "\n",
    "print(my_dict)\n",
    "print()\n",
    "\n",
    "import pandas as pd\n",
    "\n",
    "df_my_dict = pd.DataFrame.from_dict(my_dict)\n",
    "print(df_my_dict)\n",
    "print()\n",
    "\n",
    "\n",
    "address_list = [\"Gurgaon\" , \"Jammu\"]\n",
    "df_my_dict.insert(column=\"Address\" , value=address_list , loc=3 )\n",
    "print(df_my_dict)\n"
   ]
  },
  {
   "cell_type": "markdown",
   "metadata": {},
   "source": [
    "## End"
   ]
  },
  {
   "cell_type": "code",
   "execution_count": null,
   "metadata": {},
   "outputs": [],
   "source": []
  }
 ],
 "metadata": {
  "kernelspec": {
   "display_name": "Python 3",
   "language": "python",
   "name": "python3"
  },
  "language_info": {
   "codemirror_mode": {
    "name": "ipython",
    "version": 3
   },
   "file_extension": ".py",
   "mimetype": "text/x-python",
   "name": "python",
   "nbconvert_exporter": "python",
   "pygments_lexer": "ipython3",
   "version": "3.7.3"
  }
 },
 "nbformat": 4,
 "nbformat_minor": 2
}
